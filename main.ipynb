{
 "cells": [
  {
   "cell_type": "code",
   "execution_count": 1,
   "metadata": {
    "colab": {
     "base_uri": "https://localhost:8080/",
     "height": 139
    },
    "colab_type": "code",
    "id": "TEd4qxkMZG6n",
    "outputId": "431e6fc0-272a-40bd-9d70-3e0059705373"
   },
   "outputs": [],
   "source": [
    "# # comment out this part when run locally\n",
    "# from google.colab import drive\n",
    "# drive.mount('/gdrive')\n",
    "# %cd /gdrive/My\\ Drive/similar_faces/"
   ]
  },
  {
   "cell_type": "code",
   "execution_count": 2,
   "metadata": {
    "colab": {},
    "colab_type": "code",
    "id": "PoIgLnD_Xes0"
   },
   "outputs": [],
   "source": [
    "import os\n",
    "import glob\n",
    "import numpy as np\n",
    "import torch\n",
    "import torch.nn as nn\n",
    "import torch.nn.functional as F\n",
    "import matplotlib.pyplot as plt\n",
    "from torch.utils.data import Dataset, DataLoader\n",
    "from torchvision import transforms\n",
    "from torchvision import models\n",
    "from PIL import Image\n",
    "%matplotlib inline"
   ]
  },
  {
   "cell_type": "code",
   "execution_count": 3,
   "metadata": {
    "colab": {
     "base_uri": "https://localhost:8080/",
     "height": 34
    },
    "colab_type": "code",
    "id": "EXWn-M1qamgc",
    "outputId": "7a8d525c-b45b-46b5-97b1-a0071273cf7c"
   },
   "outputs": [
    {
     "name": "stdout",
     "output_type": "stream",
     "text": [
      "Cuda unavailable\n"
     ]
    }
   ],
   "source": [
    "if torch.cuda.is_available():\n",
    "    print(f'Cuda device: {torch.cuda.get_device_name(0)}')\n",
    "else:\n",
    "    print('Cuda unavailable')"
   ]
  },
  {
   "cell_type": "code",
   "execution_count": 4,
   "metadata": {
    "colab": {},
    "colab_type": "code",
    "id": "2b0rAY94Xes3"
   },
   "outputs": [],
   "source": [
    "# Hyperparameters\n",
    "num_epochs = 1\n",
    "batch_size = 8\n",
    "learning_rate = 0.0001\n",
    "\n",
    "num_classes = 4\n",
    "num_images_per_class = 10"
   ]
  },
  {
   "cell_type": "markdown",
   "metadata": {
    "colab_type": "text",
    "id": "N5MfvJVHXes5"
   },
   "source": [
    "## Dataset"
   ]
  },
  {
   "cell_type": "code",
   "execution_count": 5,
   "metadata": {
    "colab": {},
    "colab_type": "code",
    "id": "vCtJPjJKXes5"
   },
   "outputs": [],
   "source": [
    "class SimilarFaceDataset(Dataset):\n",
    "    def __init__(self, num_classes, num_images_per_class, image_size=128):\n",
    "        self.num_classes = num_classes\n",
    "        self.num_images_per_class = num_images_per_class\n",
    "        self.images = []\n",
    "        \n",
    "        transform = transforms.Compose([\n",
    "            transforms.Resize((image_size, image_size)),\n",
    "            transforms.ToTensor(),\n",
    "            lambda image: image[:-1],\n",
    "        ])\n",
    "        \n",
    "        for i in range(self.num_classes):\n",
    "            pathname = os.path.join('data/', f'c{i+1}')\n",
    "            tmp = []\n",
    "            for filename in glob.glob(f'{pathname}/*'):\n",
    "                tmp.append(transform(Image.open(filename)))\n",
    "            self.images.append(tmp)\n",
    "            \n",
    "        self.triplets = []\n",
    "        for positive_class in range(self.num_classes):\n",
    "            for anchor in range(self.num_images_per_class):\n",
    "                for positive in range(self.num_images_per_class):\n",
    "                    if anchor != positive:\n",
    "                        for negative_class in range(self.num_classes):\n",
    "                            if negative_class != positive_class:\n",
    "                                for negative in range(self.num_images_per_class):\n",
    "                                    self.triplets.append([\n",
    "                                        self.images[positive_class][anchor],\n",
    "                                        self.images[positive_class][positive],\n",
    "                                        self.images[negative_class][negative]\n",
    "                                    ])\n",
    "            \n",
    "    def __len__(self):\n",
    "        return len(self.triplets)\n",
    "    \n",
    "    def __getitem__(self, index):\n",
    "        \"\"\"Return a tuple (Anchor, Positive, Negative)\"\"\"\n",
    "        return self.triplets[index]\n",
    "    \n",
    "dataset = SimilarFaceDataset(num_classes, num_images_per_class)\n",
    "data_loader = DataLoader(dataset, batch_size=batch_size, shuffle=True)"
   ]
  },
  {
   "cell_type": "markdown",
   "metadata": {
    "colab_type": "text",
    "id": "Hj1MHFM0Xes7"
   },
   "source": [
    "## Siamese Network"
   ]
  },
  {
   "cell_type": "code",
   "execution_count": 6,
   "metadata": {
    "colab": {},
    "colab_type": "code",
    "id": "-57cN-ggXes8"
   },
   "outputs": [],
   "source": [
    "class SiameseNetwork(nn.Module):\n",
    "    def __init__(self):\n",
    "        super(SiameseNetwork, self).__init__()\n",
    "        self.conv = nn.Sequential(\n",
    "            nn.Conv2d(3, 32, 5),\n",
    "            nn.PReLU(),\n",
    "            nn.MaxPool2d(2),\n",
    "            nn.Conv2d(32, 64, 5),\n",
    "            nn.PReLU(),\n",
    "            nn.MaxPool2d(2),\n",
    "            nn.Conv2d(64, 64, 5),\n",
    "            nn.PReLU(),\n",
    "            nn.MaxPool2d(2),\n",
    "            nn.Conv2d(64, 64, 5),\n",
    "            nn.PReLU(),\n",
    "            nn.MaxPool2d(2),\n",
    "        )\n",
    "\n",
    "        self.fc = nn.Sequential(\n",
    "            nn.Linear(64 * 4 * 4, 256),\n",
    "            nn.PReLU(),\n",
    "            nn.Linear(256, 256),\n",
    "            nn.PReLU(),\n",
    "            nn.Linear(256, 2)\n",
    "        )\n",
    "\n",
    "    def forward_once(self, x):\n",
    "        x = self.conv(x)\n",
    "        x = x.view(x.size(0), -1)\n",
    "        x = self.fc(x)\n",
    "        return x\n",
    "        \n",
    "    def forward(self, anchor, positive, negative):\n",
    "        anchor_out = self.forward_once(anchor)\n",
    "        positive_out = self.forward_once(positive)\n",
    "        negative_out = self.forward_once(negative)\n",
    "        return (anchor_out, positive_out, negative_out)"
   ]
  },
  {
   "cell_type": "markdown",
   "metadata": {
    "colab_type": "text",
    "id": "tulaGxDlXes9"
   },
   "source": [
    "## Setup"
   ]
  },
  {
   "cell_type": "code",
   "execution_count": 7,
   "metadata": {
    "colab": {},
    "colab_type": "code",
    "id": "Rpzh8xs-Xes-"
   },
   "outputs": [],
   "source": [
    "device = torch.device('cuda:0' if torch.cuda.is_available() else 'cpu')\n",
    "model = SiameseNetwork().to(device)\n",
    "\n",
    "# Loss and optimizer\n",
    "criterion = torch.nn.TripletMarginLoss()\n",
    "optimizer = torch.optim.Adam(model.parameters(), lr=learning_rate)"
   ]
  },
  {
   "cell_type": "markdown",
   "metadata": {
    "colab_type": "text",
    "id": "8tMtnW0cXetA"
   },
   "source": [
    "## Training"
   ]
  },
  {
   "cell_type": "code",
   "execution_count": 8,
   "metadata": {
    "colab": {
     "base_uri": "https://localhost:8080/",
     "height": 34
    },
    "colab_type": "code",
    "id": "nKdRytNwcw8g",
    "outputId": "0ba1b38f-fafa-4ab6-9af0-b27cd898d141"
   },
   "outputs": [],
   "source": [
    "# num_step_to_print_info = 100\n",
    "# test_loader = DataLoader(dataset, batch_size=batch_size, shuffle=True)\n",
    "# test_iter = iter(test_loader)\n",
    "# accu_loss = 0\n",
    "# for i in range(num_step_to_print_info):\n",
    "#     anchors, positives, negatives = test_iter.next()\n",
    "#     anchors = anchors.to(device)\n",
    "#     positives = positives.to(device)\n",
    "#     negatives = negatives.to(device)\n",
    "#     anchor_outputs, positive_outputs, negative_outputs = model(anchors, positives, negatives)\n",
    "#     loss = criterion(anchor_outputs, positive_outputs, negative_outputs)\n",
    "#     accu_loss += loss.item()\n",
    "# print(f'Initial accu loss: {accu_loss}')"
   ]
  },
  {
   "cell_type": "code",
   "execution_count": 9,
   "metadata": {},
   "outputs": [],
   "source": [
    "# # Load checkpoint\n",
    "# checkpoint = torch.load('checkpoint')\n",
    "# model.load_state_dict(checkpoint['model_state_dict'])\n",
    "# optimizer.load_state_dict(checkpoint['optimizer_state_dict'])"
   ]
  },
  {
   "cell_type": "code",
   "execution_count": 0,
   "metadata": {
    "colab": {
     "base_uri": "https://localhost:8080/",
     "height": 238
    },
    "colab_type": "code",
    "id": "BVzItpfAXetA",
    "outputId": "3feabe36-159e-4e65-c600-0be23e79797c"
   },
   "outputs": [
    {
     "name": "stdout",
     "output_type": "stream",
     "text": [
      "Epoch [1/1], Step [100/1350], Accu loss: 78.8668\n",
      "Epoch [1/1], Step [200/1350], Accu loss: 49.3609\n",
      "Epoch [1/1], Step [300/1350], Accu loss: 26.2187\n",
      "Epoch [1/1], Step [400/1350], Accu loss: 12.1826\n",
      "Epoch [1/1], Step [500/1350], Accu loss: 5.4100\n",
      "Epoch [1/1], Step [600/1350], Accu loss: 3.8224\n",
      "Epoch [1/1], Step [700/1350], Accu loss: 1.1509\n",
      "Epoch [1/1], Step [800/1350], Accu loss: 0.5299\n",
      "Epoch [1/1], Step [900/1350], Accu loss: 0.2747\n",
      "Epoch [1/1], Step [1000/1350], Accu loss: 0.4619\n",
      "Epoch [1/1], Step [1100/1350], Accu loss: 0.4699\n",
      "Epoch [1/1], Step [1200/1350], Accu loss: 0.4699\n",
      "Epoch [1/1], Step [1300/1350], Accu loss: 2.6714\n"
     ]
    }
   ],
   "source": [
    "model.train()\n",
    "\n",
    "accu_loss = 0\n",
    "accu_loss_history = []\n",
    "\n",
    "total_step = len(data_loader)\n",
    "for epoch in range(num_epochs):\n",
    "    for step, (anchors, positives, negatives) in enumerate(data_loader):\n",
    "        anchors = anchors.to(device)\n",
    "        positives = positives.to(device)\n",
    "        negatives = negatives.to(device)\n",
    "        \n",
    "        # forward pass\n",
    "        anchor_outputs, positive_outputs, negative_outputs = model(anchors, positives, negatives)\n",
    "        loss = criterion(anchor_outputs, positive_outputs, negative_outputs)\n",
    "        accu_loss += loss.item()\n",
    "        \n",
    "        # backward pass\n",
    "        optimizer.zero_grad()\n",
    "        loss.backward()\n",
    "        optimizer.step()\n",
    "        \n",
    "        if (step + 1) % num_step_to_print_info == 0:\n",
    "            print(f'Epoch [{epoch+1}/{num_epochs}], Step [{step+1}/{total_step}], Accu loss: {accu_loss:.4f}')\n",
    "            accu_loss_history.append(accu_loss)\n",
    "            accu_loss = 0\n",
    "\n",
    "plt.plot(accu_loss_history)"
   ]
  },
  {
   "cell_type": "code",
   "execution_count": 13,
   "metadata": {},
   "outputs": [],
   "source": [
    "# # save checkpoint\n",
    "# torch.save({\n",
    "#             'model_state_dict': model.state_dict(),\n",
    "#             'optimizer_state_dict': optimizer.state_dict()\n",
    "#             }, 'checkpoint')"
   ]
  },
  {
   "cell_type": "markdown",
   "metadata": {
    "colab_type": "text",
    "id": "sS_YPI13kF2g"
   },
   "source": [
    "## Validating"
   ]
  },
  {
   "cell_type": "code",
   "execution_count": 0,
   "metadata": {
    "colab": {},
    "colab_type": "code",
    "id": "vd0CEfIvhuyQ"
   },
   "outputs": [],
   "source": [
    "test_loader = DataLoader(dataset, batch_size=1, shuffle=True)\n",
    "test_iter = iter(test_loader)\n",
    "for i in range(100):\n",
    "    anchors, positives, negatives = test_iter.next()\n",
    "anchors = anchors.to(device)\n",
    "positives = positives.to(device)\n",
    "negatives = negatives.to(device)\n",
    "anchor_outputs, positive_outputs, negative_outputs = model(anchors, positives, negatives)"
   ]
  },
  {
   "cell_type": "code",
   "execution_count": 0,
   "metadata": {
    "colab": {
     "base_uri": "https://localhost:8080/",
     "height": 34
    },
    "colab_type": "code",
    "id": "Cj74WDmAjN3M",
    "outputId": "5a8fb036-61c0-4d72-e170-8a08d757f8ac"
   },
   "outputs": [
    {
     "name": "stdout",
     "output_type": "stream",
     "text": [
      "1.0646741390228271 12.584348678588867\n"
     ]
    }
   ],
   "source": [
    "AP = F.pairwise_distance(anchor_outputs, positive_outputs, keepdim=True).item()\n",
    "AN = F.pairwise_distance(anchor_outputs, negative_outputs, keepdim=True).item()\n",
    "print(AP, AN)"
   ]
  }
 ],
 "metadata": {
  "accelerator": "GPU",
  "colab": {
   "collapsed_sections": [],
   "name": "main.ipynb",
   "provenance": []
  },
  "kernelspec": {
   "display_name": "Python 3",
   "language": "python",
   "name": "python3"
  },
  "language_info": {
   "codemirror_mode": {
    "name": "ipython",
    "version": 3
   },
   "file_extension": ".py",
   "mimetype": "text/x-python",
   "name": "python",
   "nbconvert_exporter": "python",
   "pygments_lexer": "ipython3",
   "version": "3.7.5"
  }
 },
 "nbformat": 4,
 "nbformat_minor": 1
}
