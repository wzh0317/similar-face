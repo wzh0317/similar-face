{
 "cells": [
  {
   "cell_type": "code",
   "execution_count": 139,
   "metadata": {},
   "outputs": [],
   "source": [
    "import os\n",
    "import glob\n",
    "import numpy as np\n",
    "import torch\n",
    "import torch.nn as nn\n",
    "import torch.nn.functional as F\n",
    "import matplotlib.pyplot as plt\n",
    "from torch.utils.data import Dataset, DataLoader\n",
    "from torchvision import transforms\n",
    "from torchvision import models\n",
    "from PIL import Image\n",
    "%matplotlib inline"
   ]
  },
  {
   "cell_type": "code",
   "execution_count": 141,
   "metadata": {},
   "outputs": [],
   "source": [
    "# Hyperparameters\n",
    "num_epochs = 1\n",
    "batch_size = 1\n",
    "learning_rate = 0.001\n",
    "\n",
    "num_classes = 4\n",
    "num_images_per_class = 10"
   ]
  },
  {
   "cell_type": "markdown",
   "metadata": {},
   "source": [
    "## Dataset"
   ]
  },
  {
   "cell_type": "code",
   "execution_count": 142,
   "metadata": {},
   "outputs": [],
   "source": [
    "class SimilarFaceDataset(Dataset):\n",
    "    def __init__(self, num_classes, num_images_per_class, image_size=224):\n",
    "        self.num_classes = num_classes\n",
    "        self.num_images_per_class = num_images_per_class\n",
    "        self.images = []\n",
    "        \n",
    "        transform = transforms.Compose([\n",
    "            transforms.Resize((image_size, image_size)),\n",
    "            transforms.ToTensor(),\n",
    "            lambda image: image[:-1],\n",
    "        ])\n",
    "        \n",
    "        for i in range(self.num_classes):\n",
    "            pathname = os.path.join('data/', f'c{i+1}')\n",
    "            tmp = []\n",
    "            for filename in glob.glob(f'{pathname}/*'):\n",
    "                tmp.append(transform(Image.open(filename)))\n",
    "            self.images.append(tmp)\n",
    "            \n",
    "        self.triplets = []\n",
    "        for positive_class in range(self.num_classes):\n",
    "            for anchor in range(self.num_images_per_class):\n",
    "                for positive in range(self.num_images_per_class):\n",
    "                    if anchor != positive:\n",
    "                        for negative_class in range(self.num_classes):\n",
    "                            if negative_class != positive_class:\n",
    "                                for negative in range(self.num_images_per_class):\n",
    "                                    self.triplets.append([\n",
    "                                        self.images[positive_class][anchor],\n",
    "                                        self.images[positive_class][positive],\n",
    "                                        self.images[negative_class][negative]\n",
    "                                    ])\n",
    "            \n",
    "    def __len__(self):\n",
    "        return len(self.triplets)\n",
    "    \n",
    "    def __getitem__(self, index):\n",
    "        \"\"\"Return a tuple (Anchor, Positive, Negative)\"\"\"\n",
    "        return self.triplets[index]\n",
    "    \n",
    "dataset = SimilarFaceDataset(num_classes, num_images_per_class)\n",
    "data_loader = DataLoader(dataset, batch_size=batch_size, shuffle=True)"
   ]
  },
  {
   "cell_type": "markdown",
   "metadata": {},
   "source": [
    "## Siamese Network"
   ]
  },
  {
   "cell_type": "code",
   "execution_count": 143,
   "metadata": {},
   "outputs": [],
   "source": [
    "class SiameseNetwork(nn.Module):\n",
    "    def __init__(self):\n",
    "        super(SiameseNetwork, self).__init__()\n",
    "        self.vgg11 = models.vgg11_bn()\n",
    "        \n",
    "    def forward(self, anchor, positive, negative):\n",
    "        anchor_out = self.vgg11(anchor)\n",
    "        positive_out = self.vgg11(positive)\n",
    "        negative_out = self.vgg11(negative)\n",
    "        return (anchor_out, positive_out, negative_out)"
   ]
  },
  {
   "cell_type": "markdown",
   "metadata": {},
   "source": [
    "## Setup"
   ]
  },
  {
   "cell_type": "code",
   "execution_count": 144,
   "metadata": {},
   "outputs": [],
   "source": [
    "device = torch.device('cuda:0' if torch.cuda.is_available() else 'cpu')\n",
    "model = SiameseNetwork().to(device)\n",
    "\n",
    "# Loss and optimizer\n",
    "criterion = torch.nn.TripletMarginLoss()\n",
    "optimizer = torch.optim.Adam(model.parameters(), lr=learning_rate)"
   ]
  },
  {
   "cell_type": "markdown",
   "metadata": {},
   "source": [
    "## Training"
   ]
  },
  {
   "cell_type": "code",
   "execution_count": 145,
   "metadata": {},
   "outputs": [
    {
     "name": "stdout",
     "output_type": "stream",
     "text": [
      "Epoch [1/1], Step [0/10800], Loss: 0.2952\n",
      "Epoch [1/1], Step [1/10800], Loss: 6.2917\n",
      "Epoch [1/1], Step [2/10800], Loss: 0.0000\n",
      "Epoch [1/1], Step [3/10800], Loss: 3.7417\n",
      "Epoch [1/1], Step [4/10800], Loss: 1.1707\n",
      "Epoch [1/1], Step [5/10800], Loss: 3.6254\n",
      "Epoch [1/1], Step [6/10800], Loss: 0.0000\n",
      "Epoch [1/1], Step [7/10800], Loss: 0.0000\n",
      "Epoch [1/1], Step [8/10800], Loss: 220.2189\n",
      "Epoch [1/1], Step [9/10800], Loss: 0.0000\n",
      "Epoch [1/1], Step [10/10800], Loss: 0.0000\n",
      "Epoch [1/1], Step [11/10800], Loss: 203.3857\n",
      "Epoch [1/1], Step [12/10800], Loss: 0.0000\n",
      "Epoch [1/1], Step [13/10800], Loss: 103.4795\n",
      "Epoch [1/1], Step [14/10800], Loss: 173.1426\n",
      "Epoch [1/1], Step [15/10800], Loss: 172.5464\n",
      "Epoch [1/1], Step [16/10800], Loss: 0.0000\n",
      "Epoch [1/1], Step [17/10800], Loss: 0.0000\n",
      "Epoch [1/1], Step [18/10800], Loss: 754.2585\n",
      "Epoch [1/1], Step [19/10800], Loss: 326.6594\n",
      "Epoch [1/1], Step [20/10800], Loss: 0.0000\n",
      "Epoch [1/1], Step [21/10800], Loss: 673.5610\n",
      "Epoch [1/1], Step [22/10800], Loss: 305.9104\n",
      "Epoch [1/1], Step [23/10800], Loss: 205.5330\n",
      "Epoch [1/1], Step [24/10800], Loss: 0.0000\n",
      "Epoch [1/1], Step [25/10800], Loss: 131.6836\n",
      "Epoch [1/1], Step [26/10800], Loss: 0.0000\n",
      "Epoch [1/1], Step [27/10800], Loss: 137.8174\n",
      "Epoch [1/1], Step [28/10800], Loss: 0.0000\n",
      "Epoch [1/1], Step [29/10800], Loss: 0.0000\n",
      "Epoch [1/1], Step [30/10800], Loss: 0.0000\n",
      "Epoch [1/1], Step [31/10800], Loss: 0.0000\n",
      "Epoch [1/1], Step [32/10800], Loss: 0.0000\n",
      "Epoch [1/1], Step [33/10800], Loss: 101.1504\n",
      "Epoch [1/1], Step [34/10800], Loss: 0.0000\n",
      "Epoch [1/1], Step [35/10800], Loss: 199.3472\n",
      "Epoch [1/1], Step [36/10800], Loss: 0.0000\n",
      "Epoch [1/1], Step [37/10800], Loss: 699.2920\n",
      "Epoch [1/1], Step [38/10800], Loss: 595.4912\n",
      "Epoch [1/1], Step [39/10800], Loss: 0.0000\n",
      "Epoch [1/1], Step [40/10800], Loss: 77.6489\n",
      "Epoch [1/1], Step [41/10800], Loss: 394.0439\n",
      "Epoch [1/1], Step [42/10800], Loss: 167.5049\n",
      "Epoch [1/1], Step [43/10800], Loss: 0.0000\n",
      "Epoch [1/1], Step [44/10800], Loss: 0.0000\n",
      "Epoch [1/1], Step [45/10800], Loss: 0.0000\n",
      "Epoch [1/1], Step [46/10800], Loss: 536.9888\n",
      "Epoch [1/1], Step [47/10800], Loss: 455.2827\n",
      "Epoch [1/1], Step [48/10800], Loss: 0.0000\n",
      "Epoch [1/1], Step [49/10800], Loss: 1035.6475\n",
      "Epoch [1/1], Step [50/10800], Loss: 0.0000\n",
      "Epoch [1/1], Step [51/10800], Loss: 695.2637\n",
      "Epoch [1/1], Step [52/10800], Loss: 616.1509\n",
      "Epoch [1/1], Step [53/10800], Loss: 0.0000\n",
      "Epoch [1/1], Step [54/10800], Loss: 0.0000\n",
      "Epoch [1/1], Step [55/10800], Loss: 0.0000\n"
     ]
    },
    {
     "ename": "KeyboardInterrupt",
     "evalue": "",
     "output_type": "error",
     "traceback": [
      "\u001b[0;31m---------------------------------------------------------------------------\u001b[0m",
      "\u001b[0;31mKeyboardInterrupt\u001b[0m                         Traceback (most recent call last)",
      "\u001b[0;32m<ipython-input-145-1d13a94e20d9>\u001b[0m in \u001b[0;36m<module>\u001b[0;34m\u001b[0m\n\u001b[1;32m     14\u001b[0m         \u001b[0;31m# backward pass\u001b[0m\u001b[0;34m\u001b[0m\u001b[0;34m\u001b[0m\u001b[0;34m\u001b[0m\u001b[0m\n\u001b[1;32m     15\u001b[0m         \u001b[0moptimizer\u001b[0m\u001b[0;34m.\u001b[0m\u001b[0mzero_grad\u001b[0m\u001b[0;34m(\u001b[0m\u001b[0;34m)\u001b[0m\u001b[0;34m\u001b[0m\u001b[0;34m\u001b[0m\u001b[0m\n\u001b[0;32m---> 16\u001b[0;31m         \u001b[0mloss\u001b[0m\u001b[0;34m.\u001b[0m\u001b[0mbackward\u001b[0m\u001b[0;34m(\u001b[0m\u001b[0;34m)\u001b[0m\u001b[0;34m\u001b[0m\u001b[0;34m\u001b[0m\u001b[0m\n\u001b[0m\u001b[1;32m     17\u001b[0m         \u001b[0moptimizer\u001b[0m\u001b[0;34m.\u001b[0m\u001b[0mstep\u001b[0m\u001b[0;34m(\u001b[0m\u001b[0;34m)\u001b[0m\u001b[0;34m\u001b[0m\u001b[0;34m\u001b[0m\u001b[0m\n\u001b[1;32m     18\u001b[0m \u001b[0;34m\u001b[0m\u001b[0m\n",
      "\u001b[0;32m~/opt/anaconda3/envs/pytorch/lib/python3.7/site-packages/torch/tensor.py\u001b[0m in \u001b[0;36mbackward\u001b[0;34m(self, gradient, retain_graph, create_graph)\u001b[0m\n\u001b[1;32m    164\u001b[0m                 \u001b[0mproducts\u001b[0m\u001b[0;34m.\u001b[0m \u001b[0mDefaults\u001b[0m \u001b[0mto\u001b[0m\u001b[0;31m \u001b[0m\u001b[0;31m`\u001b[0m\u001b[0;31m`\u001b[0m\u001b[0;32mFalse\u001b[0m\u001b[0;31m`\u001b[0m\u001b[0;31m`\u001b[0m\u001b[0;34m.\u001b[0m\u001b[0;34m\u001b[0m\u001b[0;34m\u001b[0m\u001b[0m\n\u001b[1;32m    165\u001b[0m         \"\"\"\n\u001b[0;32m--> 166\u001b[0;31m         \u001b[0mtorch\u001b[0m\u001b[0;34m.\u001b[0m\u001b[0mautograd\u001b[0m\u001b[0;34m.\u001b[0m\u001b[0mbackward\u001b[0m\u001b[0;34m(\u001b[0m\u001b[0mself\u001b[0m\u001b[0;34m,\u001b[0m \u001b[0mgradient\u001b[0m\u001b[0;34m,\u001b[0m \u001b[0mretain_graph\u001b[0m\u001b[0;34m,\u001b[0m \u001b[0mcreate_graph\u001b[0m\u001b[0;34m)\u001b[0m\u001b[0;34m\u001b[0m\u001b[0;34m\u001b[0m\u001b[0m\n\u001b[0m\u001b[1;32m    167\u001b[0m \u001b[0;34m\u001b[0m\u001b[0m\n\u001b[1;32m    168\u001b[0m     \u001b[0;32mdef\u001b[0m \u001b[0mregister_hook\u001b[0m\u001b[0;34m(\u001b[0m\u001b[0mself\u001b[0m\u001b[0;34m,\u001b[0m \u001b[0mhook\u001b[0m\u001b[0;34m)\u001b[0m\u001b[0;34m:\u001b[0m\u001b[0;34m\u001b[0m\u001b[0;34m\u001b[0m\u001b[0m\n",
      "\u001b[0;32m~/opt/anaconda3/envs/pytorch/lib/python3.7/site-packages/torch/autograd/__init__.py\u001b[0m in \u001b[0;36mbackward\u001b[0;34m(tensors, grad_tensors, retain_graph, create_graph, grad_variables)\u001b[0m\n\u001b[1;32m     97\u001b[0m     Variable._execution_engine.run_backward(\n\u001b[1;32m     98\u001b[0m         \u001b[0mtensors\u001b[0m\u001b[0;34m,\u001b[0m \u001b[0mgrad_tensors\u001b[0m\u001b[0;34m,\u001b[0m \u001b[0mretain_graph\u001b[0m\u001b[0;34m,\u001b[0m \u001b[0mcreate_graph\u001b[0m\u001b[0;34m,\u001b[0m\u001b[0;34m\u001b[0m\u001b[0;34m\u001b[0m\u001b[0m\n\u001b[0;32m---> 99\u001b[0;31m         allow_unreachable=True)  # allow_unreachable flag\n\u001b[0m\u001b[1;32m    100\u001b[0m \u001b[0;34m\u001b[0m\u001b[0m\n\u001b[1;32m    101\u001b[0m \u001b[0;34m\u001b[0m\u001b[0m\n",
      "\u001b[0;31mKeyboardInterrupt\u001b[0m: "
     ]
    }
   ],
   "source": [
    "model.train()\n",
    "\n",
    "total_step = len(data_loader)\n",
    "for epoch in range(num_epochs):\n",
    "    for step, (anchors, positives, negatives) in enumerate(data_loader):\n",
    "        anchors = anchors.to(device)\n",
    "        positives = positives.to(device)\n",
    "        negatives = negatives.to(device)\n",
    "        \n",
    "        # forward pass\n",
    "        anchor_outputs, positive_outputs, negative_outputs = model(anchors, positives, negatives)\n",
    "        loss = criterion(anchor_outputs, positive_outputs, negative_outputs)\n",
    "        \n",
    "        # backward pass\n",
    "        optimizer.zero_grad()\n",
    "        loss.backward()\n",
    "        optimizer.step()\n",
    "        \n",
    "        print(f'Epoch [{epoch+1}/{num_epochs}], Step [{step}/{total_step}], Loss: {loss.item():.4f}')"
   ]
  }
 ],
 "metadata": {
  "kernelspec": {
   "display_name": "Python 3",
   "language": "python",
   "name": "python3"
  },
  "language_info": {
   "codemirror_mode": {
    "name": "ipython",
    "version": 3
   },
   "file_extension": ".py",
   "mimetype": "text/x-python",
   "name": "python",
   "nbconvert_exporter": "python",
   "pygments_lexer": "ipython3",
   "version": "3.7.5"
  }
 },
 "nbformat": 4,
 "nbformat_minor": 2
}
